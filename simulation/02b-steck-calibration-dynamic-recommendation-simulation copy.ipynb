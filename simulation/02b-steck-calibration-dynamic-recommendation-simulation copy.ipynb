{
 "cells": [
  {
   "cell_type": "markdown",
   "id": "402f9f9c",
   "metadata": {},
   "source": [
    "# Simulating a dynamic recommendation setting"
   ]
  },
  {
   "cell_type": "code",
   "execution_count": 1,
   "id": "5db86c2f",
   "metadata": {},
   "outputs": [],
   "source": [
    "import numpy as np\n",
    "import pandas as pd\n",
    "import sys\n",
    "\n"
   ]
  },
  {
   "cell_type": "code",
   "execution_count": 2,
   "id": "456a8eed",
   "metadata": {},
   "outputs": [],
   "source": [
    "sys.path.append('..')"
   ]
  },
  {
   "cell_type": "code",
   "execution_count": 3,
   "id": "74357fea",
   "metadata": {},
   "outputs": [],
   "source": [
    "synthetic_data_matrix = pd.read_csv(\"../data/simulation/sinthetic_data.csv\")"
   ]
  },
  {
   "cell_type": "code",
   "execution_count": null,
   "id": "f2d47451",
   "metadata": {},
   "outputs": [
    {
     "data": {
      "text/html": [
       "<div>\n",
       "<style scoped>\n",
       "    .dataframe tbody tr th:only-of-type {\n",
       "        vertical-align: middle;\n",
       "    }\n",
       "\n",
       "    .dataframe tbody tr th {\n",
       "        vertical-align: top;\n",
       "    }\n",
       "\n",
       "    .dataframe thead th {\n",
       "        text-align: right;\n",
       "    }\n",
       "</style>\n",
       "<table border=\"1\" class=\"dataframe\">\n",
       "  <thead>\n",
       "    <tr style=\"text-align: right;\">\n",
       "      <th></th>\n",
       "      <th>user</th>\n",
       "      <th>item</th>\n",
       "      <th>clicked_and_examined</th>\n",
       "      <th>clicked_at</th>\n",
       "      <th>timestamp</th>\n",
       "    </tr>\n",
       "  </thead>\n",
       "  <tbody>\n",
       "    <tr>\n",
       "      <th>0</th>\n",
       "      <td>1</td>\n",
       "      <td>100</td>\n",
       "      <td>0.0</td>\n",
       "      <td>NaN</td>\n",
       "      <td>NaN</td>\n",
       "    </tr>\n",
       "    <tr>\n",
       "      <th>1</th>\n",
       "      <td>1</td>\n",
       "      <td>2863</td>\n",
       "      <td>1.0</td>\n",
       "      <td>2.0</td>\n",
       "      <td>7.361022</td>\n",
       "    </tr>\n",
       "    <tr>\n",
       "      <th>2</th>\n",
       "      <td>1</td>\n",
       "      <td>609</td>\n",
       "      <td>0.0</td>\n",
       "      <td>NaN</td>\n",
       "      <td>NaN</td>\n",
       "    </tr>\n",
       "    <tr>\n",
       "      <th>3</th>\n",
       "      <td>1</td>\n",
       "      <td>2273</td>\n",
       "      <td>1.0</td>\n",
       "      <td>4.0</td>\n",
       "      <td>93.286971</td>\n",
       "    </tr>\n",
       "    <tr>\n",
       "      <th>4</th>\n",
       "      <td>1</td>\n",
       "      <td>2290</td>\n",
       "      <td>NaN</td>\n",
       "      <td>NaN</td>\n",
       "      <td>NaN</td>\n",
       "    </tr>\n",
       "    <tr>\n",
       "      <th>...</th>\n",
       "      <td>...</td>\n",
       "      <td>...</td>\n",
       "      <td>...</td>\n",
       "      <td>...</td>\n",
       "      <td>...</td>\n",
       "    </tr>\n",
       "    <tr>\n",
       "      <th>1057795</th>\n",
       "      <td>6040</td>\n",
       "      <td>1583</td>\n",
       "      <td>0.0</td>\n",
       "      <td>NaN</td>\n",
       "      <td>NaN</td>\n",
       "    </tr>\n",
       "    <tr>\n",
       "      <th>1057796</th>\n",
       "      <td>6040</td>\n",
       "      <td>2050</td>\n",
       "      <td>0.0</td>\n",
       "      <td>NaN</td>\n",
       "      <td>NaN</td>\n",
       "    </tr>\n",
       "    <tr>\n",
       "      <th>1057797</th>\n",
       "      <td>6040</td>\n",
       "      <td>2438</td>\n",
       "      <td>NaN</td>\n",
       "      <td>NaN</td>\n",
       "      <td>NaN</td>\n",
       "    </tr>\n",
       "    <tr>\n",
       "      <th>1057798</th>\n",
       "      <td>6040</td>\n",
       "      <td>832</td>\n",
       "      <td>NaN</td>\n",
       "      <td>NaN</td>\n",
       "      <td>NaN</td>\n",
       "    </tr>\n",
       "    <tr>\n",
       "      <th>1057799</th>\n",
       "      <td>6040</td>\n",
       "      <td>824</td>\n",
       "      <td>NaN</td>\n",
       "      <td>NaN</td>\n",
       "      <td>NaN</td>\n",
       "    </tr>\n",
       "  </tbody>\n",
       "</table>\n",
       "<p>1057800 rows × 5 columns</p>\n",
       "</div>"
      ],
      "text/plain": [
       "         user  item  clicked_and_examined  clicked_at  timestamp\n",
       "0           1   100                   0.0         NaN        NaN\n",
       "1           1  2863                   1.0         2.0   7.361022\n",
       "2           1   609                   0.0         NaN        NaN\n",
       "3           1  2273                   1.0         4.0  93.286971\n",
       "4           1  2290                   NaN         NaN        NaN\n",
       "...       ...   ...                   ...         ...        ...\n",
       "1057795  6040  1583                   0.0         NaN        NaN\n",
       "1057796  6040  2050                   0.0         NaN        NaN\n",
       "1057797  6040  2438                   NaN         NaN        NaN\n",
       "1057798  6040   832                   NaN         NaN        NaN\n",
       "1057799  6040   824                   NaN         NaN        NaN\n",
       "\n",
       "[1057800 rows x 5 columns]"
      ]
     },
     "execution_count": 4,
     "metadata": {},
     "output_type": "execute_result"
    }
   ],
   "source": [
    "synthetic_data_matrix"
   ]
  },
  {
   "cell_type": "markdown",
   "id": "49871376",
   "metadata": {},
   "source": [
    "## Simulation process\n",
    "\n",
    "To simulate users, we'll: \n",
    "\n",
    "1. Retain 1000 random users from our synbtethic_data_matrix\n",
    "2. For each k iteration in the simulation:\n",
    "    3. Recommend 20 items to the user\n",
    "        a. For calibration: we recommend 100 but calibrate to 20. This is done to increase recall before running the reranking\n",
    "    4. Log the clicks \n",
    "5. Every 50 iteractions, retrain the recommender\n",
    "6. Run this for 10_000 iteractions"
   ]
  }
 ],
 "metadata": {
  "kernelspec": {
   "display_name": ".dynamicTaste (3.12.3)",
   "language": "python",
   "name": "python3"
  },
  "language_info": {
   "codemirror_mode": {
    "name": "ipython",
    "version": 3
   },
   "file_extension": ".py",
   "mimetype": "text/x-python",
   "name": "python",
   "nbconvert_exporter": "python",
   "pygments_lexer": "ipython3",
   "version": "3.12.3"
  }
 },
 "nbformat": 4,
 "nbformat_minor": 5
}
