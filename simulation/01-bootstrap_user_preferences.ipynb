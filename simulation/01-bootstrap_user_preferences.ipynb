{
 "cells": [
  {
   "cell_type": "markdown",
   "id": "d672f14f-3dcf-456e-9c96-3cea6e794dfd",
   "metadata": {},
   "source": [
    "# Bootstrapping user preferences\n",
    "\n",
    "\n",
    "\n",
    "Similarly to (Zhu et al., 2021), we'll evaluate a dynamic recommendation system using:\n",
    "\n",
    "1. An oracle preference model (Generated in notebook 00-preference_model)\n",
    "2. A position bias examination model\n",
    "3. Bootstrapped user preferences\n",
    "\n",
    "Step 3 is important so that we're simulating exposing users to fresh items, using their previous preferences (provided by step 1) and their examination bias (step 2) to determine a sinthethical rating matrix dataset that we'll use to compare different calibration approaches as the user gets exposed to more and more items."
   ]
  },
  {
   "cell_type": "code",
   "execution_count": 1,
   "id": "015001d6-cd9a-4f62-b3f3-4ad7bfc58698",
   "metadata": {},
   "outputs": [],
   "source": [
    "import pandas as pd\n",
    "from tqdm import tqdm"
   ]
  },
  {
   "cell_type": "code",
   "execution_count": 33,
   "id": "d481e968-2224-4b8c-8730-1749494e0770",
   "metadata": {},
   "outputs": [],
   "source": [
    "import numpy as np\n",
    "import math\n",
    "import random"
   ]
  },
  {
   "cell_type": "code",
   "execution_count": 2,
   "id": "69f651c8-821f-4e47-acc3-32a43a6bb30c",
   "metadata": {},
   "outputs": [],
   "source": [
    "import sys\n",
    "import os\n",
    "from pathlib import Path\n",
    "\n",
    "sys.path.append('..')"
   ]
  },
  {
   "cell_type": "code",
   "execution_count": 3,
   "id": "4eab1b30-6bc8-434f-ad73-03d0f74dcb8a",
   "metadata": {},
   "outputs": [],
   "source": [
    "from constants import ML_1M_FILLED_PATH"
   ]
  },
  {
   "cell_type": "code",
   "execution_count": 21,
   "id": "8971bd54-aa39-4317-b79d-315a4c6deaad",
   "metadata": {},
   "outputs": [],
   "source": [
    "def get_user_preference_for_item(user, item, matrix):\n",
    "    user_ratings = matrix[matrix[\"user\"] == user]\n",
    "    return user_ratings[user_ratings[\"item\"] == item].rating.item()"
   ]
  },
  {
   "cell_type": "code",
   "execution_count": 37,
   "id": "12a9ad58-bf65-44a6-8317-876af6a0237a",
   "metadata": {},
   "outputs": [],
   "source": [
    "def click_model(k):\n",
    "    lambda_k = 1/np.log(k+1,2)\n",
    "    examination_probability = random.random()\n",
    "    if examination_probability <= lambda_k:\n",
    "        return True\n",
    "    return False"
   ]
  },
  {
   "cell_type": "code",
   "execution_count": 43,
   "id": "19d20c11-62b3-4e78-a022-40ec435f8709",
   "metadata": {},
   "outputs": [],
   "source": [
    "def get_user_feedback_for_item(user, item ,k, matrix, preference_threshold=4):\n",
    "    preference = get_user_preference_for_item(user, item, matrix)\n",
    "    observed = click_model(k)\n",
    "    relevant = preference >= preference_threshold\n",
    "    should_click = observed and relevant\n",
    "    if (observed):\n",
    "        feedback = should_click\n",
    "    # feedback = 1 if user examined and clicked, 0 if user examined and not clicked,\n",
    "    # None if otherwise\n",
    "    return user, item, feedback"
   ]
  },
  {
   "cell_type": "code",
   "execution_count": null,
   "id": "886166ad-7243-447b-826f-e7a653e65695",
   "metadata": {},
   "outputs": [],
   "source": []
  },
  {
   "cell_type": "code",
   "execution_count": 39,
   "id": "6b2f9eea-aa12-4abf-b051-13b8eacfaba9",
   "metadata": {},
   "outputs": [],
   "source": [
    "def random_rec(items, u, k, D):\n",
    "    user_history = set(D[D[\"user\"] == u][\"item\"])\n",
    "    candidate_items = list(set(items) - user_history)\n",
    "    return random.sample(candidate_items, k)"
   ]
  },
  {
   "cell_type": "code",
   "execution_count": 9,
   "id": "b8105f4b-cfb9-4b48-9639-df74a991dcff",
   "metadata": {},
   "outputs": [],
   "source": [
    "preference_matrix = pd.read_csv(f\"../{ML_1M_FILLED_PATH}\").drop(columns=[\"Unnamed: 0\"])"
   ]
  },
  {
   "cell_type": "code",
   "execution_count": 10,
   "id": "044fb802-14cc-45ef-821d-68ca3ee9f991",
   "metadata": {},
   "outputs": [
    {
     "data": {
      "text/html": [
       "<div>\n",
       "<style scoped>\n",
       "    .dataframe tbody tr th:only-of-type {\n",
       "        vertical-align: middle;\n",
       "    }\n",
       "\n",
       "    .dataframe tbody tr th {\n",
       "        vertical-align: top;\n",
       "    }\n",
       "\n",
       "    .dataframe thead th {\n",
       "        text-align: right;\n",
       "    }\n",
       "</style>\n",
       "<table border=\"1\" class=\"dataframe\">\n",
       "  <thead>\n",
       "    <tr style=\"text-align: right;\">\n",
       "      <th></th>\n",
       "      <th>user</th>\n",
       "      <th>item</th>\n",
       "      <th>rating</th>\n",
       "    </tr>\n",
       "  </thead>\n",
       "  <tbody>\n",
       "    <tr>\n",
       "      <th>0</th>\n",
       "      <td>1</td>\n",
       "      <td>1193</td>\n",
       "      <td>5.000000</td>\n",
       "    </tr>\n",
       "    <tr>\n",
       "      <th>1</th>\n",
       "      <td>1</td>\n",
       "      <td>661</td>\n",
       "      <td>3.000000</td>\n",
       "    </tr>\n",
       "    <tr>\n",
       "      <th>2</th>\n",
       "      <td>1</td>\n",
       "      <td>914</td>\n",
       "      <td>3.000000</td>\n",
       "    </tr>\n",
       "    <tr>\n",
       "      <th>3</th>\n",
       "      <td>1</td>\n",
       "      <td>3408</td>\n",
       "      <td>4.000000</td>\n",
       "    </tr>\n",
       "    <tr>\n",
       "      <th>4</th>\n",
       "      <td>1</td>\n",
       "      <td>2355</td>\n",
       "      <td>5.000000</td>\n",
       "    </tr>\n",
       "    <tr>\n",
       "      <th>...</th>\n",
       "      <td>...</td>\n",
       "      <td>...</td>\n",
       "      <td>...</td>\n",
       "    </tr>\n",
       "    <tr>\n",
       "      <th>22384235</th>\n",
       "      <td>6040</td>\n",
       "      <td>2198</td>\n",
       "      <td>2.990271</td>\n",
       "    </tr>\n",
       "    <tr>\n",
       "      <th>22384236</th>\n",
       "      <td>6040</td>\n",
       "      <td>2703</td>\n",
       "      <td>3.182332</td>\n",
       "    </tr>\n",
       "    <tr>\n",
       "      <th>22384237</th>\n",
       "      <td>6040</td>\n",
       "      <td>2845</td>\n",
       "      <td>3.090408</td>\n",
       "    </tr>\n",
       "    <tr>\n",
       "      <th>22384238</th>\n",
       "      <td>6040</td>\n",
       "      <td>3607</td>\n",
       "      <td>3.034246</td>\n",
       "    </tr>\n",
       "    <tr>\n",
       "      <th>22384239</th>\n",
       "      <td>6040</td>\n",
       "      <td>2909</td>\n",
       "      <td>3.097572</td>\n",
       "    </tr>\n",
       "  </tbody>\n",
       "</table>\n",
       "<p>22384240 rows × 3 columns</p>\n",
       "</div>"
      ],
      "text/plain": [
       "          user  item    rating\n",
       "0            1  1193  5.000000\n",
       "1            1   661  3.000000\n",
       "2            1   914  3.000000\n",
       "3            1  3408  4.000000\n",
       "4            1  2355  5.000000\n",
       "...        ...   ...       ...\n",
       "22384235  6040  2198  2.990271\n",
       "22384236  6040  2703  3.182332\n",
       "22384237  6040  2845  3.090408\n",
       "22384238  6040  3607  3.034246\n",
       "22384239  6040  2909  3.097572\n",
       "\n",
       "[22384240 rows x 3 columns]"
      ]
     },
     "execution_count": 10,
     "metadata": {},
     "output_type": "execute_result"
    }
   ],
   "source": [
    "preference_matrix"
   ]
  },
  {
   "cell_type": "code",
   "execution_count": 18,
   "id": "f3ef0dbe-8b1c-49dd-b67f-2f3b018c78ae",
   "metadata": {},
   "outputs": [],
   "source": [
    "a = preference_matrix[preference_matrix[\"user\"] == 1]"
   ]
  },
  {
   "cell_type": "code",
   "execution_count": 22,
   "id": "d371d30d-574e-4506-8fad-f4d23e06e59f",
   "metadata": {},
   "outputs": [
    {
     "data": {
      "text/plain": [
       "5.0"
      ]
     },
     "execution_count": 22,
     "metadata": {},
     "output_type": "execute_result"
    }
   ],
   "source": [
    "get_user_preference_for_item(1, 1193, preference_matrix)"
   ]
  },
  {
   "cell_type": "code",
   "execution_count": 13,
   "id": "573be9db-9f1e-4f54-9c1d-6d5a83f3463b",
   "metadata": {},
   "outputs": [],
   "source": [
    "unique_users = list(preference_matrix[\"user\"].unique())\n",
    "\n",
    "unique_items = list(preference_matrix[\"item\"].unique())"
   ]
  },
  {
   "cell_type": "code",
   "execution_count": 40,
   "id": "ae28cbd3-1978-42a0-afdd-f9bd11480446",
   "metadata": {},
   "outputs": [],
   "source": [
    "click_matrix = pd.DataFrame(columns=[\"user\", \"item\", \"relevancy\"])"
   ]
  }
 ],
 "metadata": {
  "kernelspec": {
   "display_name": "Python (.dynamicTaste)n",
   "language": "python",
   "name": "dynamictaste"
  },
  "language_info": {
   "codemirror_mode": {
    "name": "ipython",
    "version": 3
   },
   "file_extension": ".py",
   "mimetype": "text/x-python",
   "name": "python",
   "nbconvert_exporter": "python",
   "pygments_lexer": "ipython3",
   "version": "3.12.3"
  }
 },
 "nbformat": 4,
 "nbformat_minor": 5
}
