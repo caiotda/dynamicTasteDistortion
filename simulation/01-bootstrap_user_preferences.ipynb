{
 "cells": [
  {
   "cell_type": "markdown",
   "id": "d672f14f-3dcf-456e-9c96-3cea6e794dfd",
   "metadata": {},
   "source": [
    "# Bootstrapping user preferences\n",
    "\n",
    "\n",
    "\n",
    "Similarly to (Zhu et al., 2021), we'll evaluate a dynamic recommendation system using:\n",
    "\n",
    "1. An oracle preference model (Generated in notebook 00-preference_model)\n",
    "2. A position bias examination model\n",
    "3. Bootstrapped user preferences\n",
    "\n",
    "Step 3 is important so that we're simulating exposing users to fresh items, using their previous preferences (provided by step 1) and their examination bias (step 2) to determine a sinthethical rating matrix dataset that we'll use to compare different calibration approaches as the user gets exposed to more and more items.\n",
    "\n",
    "We'll also simulate the timestamp of user interaction, with the following methodology:\n",
    "\n",
    "1. We'll analyze the average delta in timestamps between consecutive ratings per user in the same dataset that the preference model was trained on (e.g: movielens) (present in data/movielens-1m/avg_str_time_dff_per_user.csv)\n",
    "2. Assuming that the time_delta is normally distributed (with the mean and standart deviation being defined from the dataset), we'll randomly generate a delta_t for each user. the time_0 will be the timestamp when we start generating the user preferences."
   ]
  },
  {
   "cell_type": "markdown",
   "id": "ace3c738",
   "metadata": {},
   "source": []
  },
  {
   "cell_type": "code",
   "execution_count": 1,
   "id": "015001d6-cd9a-4f62-b3f3-4ad7bfc58698",
   "metadata": {},
   "outputs": [],
   "source": [
    "import pandas as pd\n",
    "from scipy.stats import expon\n",
    "from tqdm import tqdm"
   ]
  },
  {
   "cell_type": "code",
   "execution_count": 2,
   "id": "d481e968-2224-4b8c-8730-1749494e0770",
   "metadata": {},
   "outputs": [],
   "source": [
    "import numpy as np\n",
    "import math\n",
    "import random"
   ]
  },
  {
   "cell_type": "code",
   "execution_count": 3,
   "id": "69f651c8-821f-4e47-acc3-32a43a6bb30c",
   "metadata": {},
   "outputs": [],
   "source": [
    "import sys\n",
    "import os\n",
    "from pathlib import Path\n",
    "import pickle\n",
    "\n",
    "sys.path.append('..')"
   ]
  },
  {
   "cell_type": "code",
   "execution_count": null,
   "id": "4eab1b30-6bc8-434f-ad73-03d0f74dcb8a",
   "metadata": {},
   "outputs": [],
   "source": [
    "from tasteDistortionOnDynamicRecs.simulationConstants import ML_1M_1K_SAMPLE_FILLED_PATH"
   ]
  },
  {
   "cell_type": "markdown",
   "id": "087594c4",
   "metadata": {},
   "source": [
    "## Reading and setting up data"
   ]
  },
  {
   "cell_type": "code",
   "execution_count": 5,
   "id": "c2efc509",
   "metadata": {},
   "outputs": [],
   "source": [
    "preference_matrix = pd.read_csv(f\"../{ML_1M_1K_SAMPLE_FILLED_PATH}\").drop(columns=[\"Unnamed: 0\"])\n",
    "preference_matrix = preference_matrix.rename(columns={\"Rating\": \"rating\"})\n",
    "\n",
    "\n",
    "unique_users = list(preference_matrix[\"user\"].unique())\n",
    "\n",
    "unique_items = list(preference_matrix[\"item\"].unique())\n",
    "\n",
    "\n",
    "click_matrix = pd.DataFrame(columns=[\"user\", \"item\", \"clicked_and_examined\", \"clicked_at\", \"timestamp\"])\n",
    "\n",
    "user_to_time_delta = pd.read_csv(\"../data/movielens-1m/median_time_diff_per_user.csv\").set_index(\"userId\")"
   ]
  },
  {
   "cell_type": "code",
   "execution_count": 6,
   "id": "0fadfd5c",
   "metadata": {},
   "outputs": [],
   "source": [
    "\n",
    "\n",
    "userToExpDistribution = {\n",
    "    user: expon(scale=row[\"median_timestamp_diff\"])\n",
    "    for user, row in user_to_time_delta.iterrows()\n",
    "}\n",
    "\n",
    "\n",
    "\n",
    "\n",
    "with open(\"userToExpDistribution.pkl\", \"wb\") as f:\n",
    "    pickle.dump(userToExpDistribution, f)"
   ]
  },
  {
   "cell_type": "markdown",
   "id": "597f3efa",
   "metadata": {},
   "source": [
    "## Functions"
   ]
  },
  {
   "cell_type": "code",
   "execution_count": null,
   "id": "7e2567a9",
   "metadata": {},
   "outputs": [],
   "source": [
    "from simulationUtils import get_user_preference_for_item, click_model, map_recommendation_to_feedback"
   ]
  },
  {
   "cell_type": "code",
   "execution_count": 10,
   "id": "5836a74d",
   "metadata": {},
   "outputs": [
    {
     "data": {
      "text/plain": [
       "11.596409769853055"
      ]
     },
     "execution_count": 10,
     "metadata": {},
     "output_type": "execute_result"
    }
   ],
   "source": [
    "userToExpDistribution[1].rvs(1)[0]"
   ]
  },
  {
   "cell_type": "code",
   "execution_count": 13,
   "id": "6b2f9eea-aa12-4abf-b051-13b8eacfaba9",
   "metadata": {},
   "outputs": [],
   "source": [
    "def random_rec(items, u, k, D):\n",
    "    user_history = set(D[D[\"user\"] == u][\"item\"])\n",
    "    candidate_items = list(set(items) - user_history)\n",
    "    return random.sample(candidate_items, k)"
   ]
  },
  {
   "cell_type": "code",
   "execution_count": null,
   "id": "e036fcb1",
   "metadata": {},
   "outputs": [],
   "source": []
  },
  {
   "cell_type": "code",
   "execution_count": 14,
   "id": "ec2ef531",
   "metadata": {},
   "outputs": [],
   "source": [
    "initial_date = None"
   ]
  },
  {
   "cell_type": "code",
   "execution_count": null,
   "id": "12d5d8d0",
   "metadata": {},
   "outputs": [],
   "source": [
    "if initial_date is None:\n",
    "    initial_date = pd.Timestamp.now().timestamp()\n",
    "user_to_up_to_date_timestamp = pd.DataFrame({\n",
    "    \"user\": unique_users, \n",
    "    \"delta_from_start\": 0.0\n",
    "})\n",
    "user_to_up_to_date_timestamp[\"timestamp_dist\"] = user_to_up_to_date_timestamp[\"user\"].map(userToExpDistribution)"
   ]
  },
  {
   "cell_type": "code",
   "execution_count": null,
   "id": "cd44fd93",
   "metadata": {},
   "outputs": [],
   "source": []
  },
  {
   "cell_type": "code",
   "execution_count": 16,
   "id": "2c9c2b50",
   "metadata": {},
   "outputs": [
    {
     "data": {
      "text/plain": [
       "1757528764.087986"
      ]
     },
     "execution_count": 16,
     "metadata": {},
     "output_type": "execute_result"
    }
   ],
   "source": [
    "pd.Timestamp.now().timestamp()"
   ]
  },
  {
   "cell_type": "code",
   "execution_count": 17,
   "id": "db9739df",
   "metadata": {},
   "outputs": [
    {
     "data": {
      "text/html": [
       "<div>\n",
       "<style scoped>\n",
       "    .dataframe tbody tr th:only-of-type {\n",
       "        vertical-align: middle;\n",
       "    }\n",
       "\n",
       "    .dataframe tbody tr th {\n",
       "        vertical-align: top;\n",
       "    }\n",
       "\n",
       "    .dataframe thead th {\n",
       "        text-align: right;\n",
       "    }\n",
       "</style>\n",
       "<table border=\"1\" class=\"dataframe\">\n",
       "  <thead>\n",
       "    <tr style=\"text-align: right;\">\n",
       "      <th></th>\n",
       "      <th>user</th>\n",
       "      <th>delta_from_start</th>\n",
       "      <th>timestamp_dist</th>\n",
       "    </tr>\n",
       "  </thead>\n",
       "  <tbody>\n",
       "    <tr>\n",
       "      <th>0</th>\n",
       "      <td>10</td>\n",
       "      <td>0.0</td>\n",
       "      <td>&lt;scipy.stats._distn_infrastructure.rv_continuo...</td>\n",
       "    </tr>\n",
       "    <tr>\n",
       "      <th>1</th>\n",
       "      <td>16</td>\n",
       "      <td>0.0</td>\n",
       "      <td>&lt;scipy.stats._distn_infrastructure.rv_continuo...</td>\n",
       "    </tr>\n",
       "    <tr>\n",
       "      <th>2</th>\n",
       "      <td>19</td>\n",
       "      <td>0.0</td>\n",
       "      <td>&lt;scipy.stats._distn_infrastructure.rv_continuo...</td>\n",
       "    </tr>\n",
       "    <tr>\n",
       "      <th>3</th>\n",
       "      <td>23</td>\n",
       "      <td>0.0</td>\n",
       "      <td>&lt;scipy.stats._distn_infrastructure.rv_continuo...</td>\n",
       "    </tr>\n",
       "    <tr>\n",
       "      <th>4</th>\n",
       "      <td>29</td>\n",
       "      <td>0.0</td>\n",
       "      <td>&lt;scipy.stats._distn_infrastructure.rv_continuo...</td>\n",
       "    </tr>\n",
       "    <tr>\n",
       "      <th>...</th>\n",
       "      <td>...</td>\n",
       "      <td>...</td>\n",
       "      <td>...</td>\n",
       "    </tr>\n",
       "    <tr>\n",
       "      <th>995</th>\n",
       "      <td>6019</td>\n",
       "      <td>0.0</td>\n",
       "      <td>&lt;scipy.stats._distn_infrastructure.rv_continuo...</td>\n",
       "    </tr>\n",
       "    <tr>\n",
       "      <th>996</th>\n",
       "      <td>6023</td>\n",
       "      <td>0.0</td>\n",
       "      <td>&lt;scipy.stats._distn_infrastructure.rv_continuo...</td>\n",
       "    </tr>\n",
       "    <tr>\n",
       "      <th>997</th>\n",
       "      <td>6030</td>\n",
       "      <td>0.0</td>\n",
       "      <td>&lt;scipy.stats._distn_infrastructure.rv_continuo...</td>\n",
       "    </tr>\n",
       "    <tr>\n",
       "      <th>998</th>\n",
       "      <td>6033</td>\n",
       "      <td>0.0</td>\n",
       "      <td>&lt;scipy.stats._distn_infrastructure.rv_continuo...</td>\n",
       "    </tr>\n",
       "    <tr>\n",
       "      <th>999</th>\n",
       "      <td>6036</td>\n",
       "      <td>0.0</td>\n",
       "      <td>&lt;scipy.stats._distn_infrastructure.rv_continuo...</td>\n",
       "    </tr>\n",
       "  </tbody>\n",
       "</table>\n",
       "<p>1000 rows × 3 columns</p>\n",
       "</div>"
      ],
      "text/plain": [
       "     user  delta_from_start                                     timestamp_dist\n",
       "0      10               0.0  <scipy.stats._distn_infrastructure.rv_continuo...\n",
       "1      16               0.0  <scipy.stats._distn_infrastructure.rv_continuo...\n",
       "2      19               0.0  <scipy.stats._distn_infrastructure.rv_continuo...\n",
       "3      23               0.0  <scipy.stats._distn_infrastructure.rv_continuo...\n",
       "4      29               0.0  <scipy.stats._distn_infrastructure.rv_continuo...\n",
       "..    ...               ...                                                ...\n",
       "995  6019               0.0  <scipy.stats._distn_infrastructure.rv_continuo...\n",
       "996  6023               0.0  <scipy.stats._distn_infrastructure.rv_continuo...\n",
       "997  6030               0.0  <scipy.stats._distn_infrastructure.rv_continuo...\n",
       "998  6033               0.0  <scipy.stats._distn_infrastructure.rv_continuo...\n",
       "999  6036               0.0  <scipy.stats._distn_infrastructure.rv_continuo...\n",
       "\n",
       "[1000 rows x 3 columns]"
      ]
     },
     "execution_count": 17,
     "metadata": {},
     "output_type": "execute_result"
    }
   ],
   "source": [
    "user_to_up_to_date_timestamp"
   ]
  },
  {
   "cell_type": "code",
   "execution_count": null,
   "id": "0c16e6c9",
   "metadata": {},
   "outputs": [],
   "source": []
  },
  {
   "cell_type": "code",
   "execution_count": 18,
   "id": "c21a3c06",
   "metadata": {},
   "outputs": [],
   "source": [
    "def simulate_user_feedback(user, candidate_items, click_df, preference_matrix, k, user_to_up_to_date_timestamp, userToExpDistribution):\n",
    "    rec = random_rec(candidate_items, user, k, click_df)\n",
    "    row, last_time = map_recommendation_to_feedback(user, rec, preference_matrix, user_to_up_to_date_timestamp, userToExpDistribution)\n",
    "    user_to_up_to_date_timestamp.loc[user_to_up_to_date_timestamp[\"user\"] == user, \"delta_from_start\"] = last_time\n",
    "    return row, user_to_up_to_date_timestamp"
   ]
  },
  {
   "cell_type": "code",
   "execution_count": 19,
   "id": "1311a8d7-905d-4d2d-81e6-477708e3b097",
   "metadata": {},
   "outputs": [],
   "source": [
    "def bootstrap_clicks(D, unique_users, unique_items, preference_matrix, userToExpDistribution, k=20, rounds=10, initial_date=None):\n",
    "    \"\"\"\n",
    "    Given unique users and unique items, recommend up to k items to every user\n",
    "    using a preference matrix as a relevancy model and using a click model\n",
    "    to simulate probability of user examinating an item.\n",
    "\n",
    "    Feedback signal will be fed to the D matrix.\n",
    "\n",
    "    We run the boostrap process for a total of an arbitrary number of rounds,\n",
    "    in order to ensure enough feedback data to train a model.\n",
    "    \"\"\"\n",
    "\n",
    "\n",
    "    if initial_date is None:\n",
    "        initial_date = pd.Timestamp.now().timestamp()\n",
    "    user_to_up_to_date_timestamp = pd.DataFrame({\n",
    "        \"user\": unique_users,\n",
    "        \"delta_from_start\": 0.0\n",
    "    })\n",
    "    user_to_up_to_date_timestamp[\"timestamp_dist\"] = user_to_up_to_date_timestamp[\"user\"].map(userToExpDistribution)\n",
    "    new_df = D.copy()#pd.DataFrame(columns=[\"user\", \"item\", \"clicked_and_examined\", \"clicked_at\"])\n",
    "    for round in range(rounds):\n",
    "        rows_to_append = []\n",
    "        for user in tqdm(unique_users, desc=f\"Processing users (round {round+1}/{rounds})...\"):\n",
    "            row, user_to_up_to_date_timestamp = simulate_user_feedback(user, unique_items, click_matrix, preference_matrix, k, user_to_up_to_date_timestamp, userToExpDistribution)\n",
    "            #row, user_to_up_to_date_timestamp = map_recommendation_to_feedback(user, recs, preference_matrix, user_to_up_to_date_timestamp)\n",
    "            rows_to_append.extend(row)\n",
    "        round_df = pd.DataFrame(rows_to_append, columns=new_df.columns)\n",
    "        new_df = pd.concat([new_df, round_df], ignore_index=True)\n",
    "    final_df = pd.concat([D, new_df])\n",
    "    final_df.loc[final_df[\"timestamp\"].notnull(), \"timestamp\"] += initial_date\n",
    "    return final_df"
   ]
  },
  {
   "cell_type": "code",
   "execution_count": null,
   "id": "60b4b762",
   "metadata": {},
   "outputs": [],
   "source": []
  },
  {
   "cell_type": "code",
   "execution_count": 20,
   "id": "f7f8ad7d-fb88-4bea-96c8-4b9618c10f52",
   "metadata": {},
   "outputs": [
    {
     "name": "stderr",
     "output_type": "stream",
     "text": [
      "Processing users (round 1/50)...: 100%|██████████| 1000/1000 [00:24<00:00, 40.23it/s]\n",
      "/tmp/ipykernel_19836/3645572272.py:29: FutureWarning: The behavior of DataFrame concatenation with empty or all-NA entries is deprecated. In a future version, this will no longer exclude empty or all-NA columns when determining the result dtypes. To retain the old behavior, exclude the relevant entries before the concat operation.\n",
      "  new_df = pd.concat([new_df, round_df], ignore_index=True)\n",
      "Processing users (round 2/50)...: 100%|██████████| 1000/1000 [00:24<00:00, 40.89it/s]\n",
      "Processing users (round 3/50)...: 100%|██████████| 1000/1000 [00:23<00:00, 41.67it/s]\n",
      "Processing users (round 4/50)...: 100%|██████████| 1000/1000 [00:24<00:00, 41.38it/s]\n",
      "Processing users (round 5/50)...: 100%|██████████| 1000/1000 [00:24<00:00, 41.50it/s]\n",
      "Processing users (round 6/50)...: 100%|██████████| 1000/1000 [00:24<00:00, 40.83it/s]\n",
      "Processing users (round 7/50)...: 100%|██████████| 1000/1000 [00:25<00:00, 39.96it/s]\n",
      "Processing users (round 8/50)...: 100%|██████████| 1000/1000 [00:24<00:00, 40.92it/s]\n",
      "Processing users (round 9/50)...: 100%|██████████| 1000/1000 [00:24<00:00, 40.27it/s]\n",
      "Processing users (round 10/50)...: 100%|██████████| 1000/1000 [00:24<00:00, 41.43it/s]\n",
      "Processing users (round 11/50)...: 100%|██████████| 1000/1000 [00:24<00:00, 40.74it/s]\n",
      "Processing users (round 12/50)...: 100%|██████████| 1000/1000 [00:24<00:00, 41.35it/s]\n",
      "Processing users (round 13/50)...: 100%|██████████| 1000/1000 [00:24<00:00, 40.71it/s]\n",
      "Processing users (round 14/50)...: 100%|██████████| 1000/1000 [00:24<00:00, 40.94it/s]\n",
      "Processing users (round 15/50)...: 100%|██████████| 1000/1000 [00:24<00:00, 40.83it/s]\n",
      "Processing users (round 16/50)...: 100%|██████████| 1000/1000 [00:23<00:00, 41.95it/s]\n",
      "Processing users (round 17/50)...: 100%|██████████| 1000/1000 [00:24<00:00, 40.90it/s]\n",
      "Processing users (round 18/50)...: 100%|██████████| 1000/1000 [00:24<00:00, 41.44it/s]\n",
      "Processing users (round 19/50)...: 100%|██████████| 1000/1000 [00:23<00:00, 41.72it/s]\n",
      "Processing users (round 20/50)...: 100%|██████████| 1000/1000 [00:24<00:00, 40.80it/s]\n",
      "Processing users (round 21/50)...: 100%|██████████| 1000/1000 [00:25<00:00, 39.72it/s]\n",
      "Processing users (round 22/50)...: 100%|██████████| 1000/1000 [00:25<00:00, 39.97it/s]\n",
      "Processing users (round 23/50)...: 100%|██████████| 1000/1000 [00:23<00:00, 42.13it/s]\n",
      "Processing users (round 24/50)...: 100%|██████████| 1000/1000 [00:24<00:00, 40.44it/s]\n",
      "Processing users (round 25/50)...: 100%|██████████| 1000/1000 [00:25<00:00, 39.58it/s]\n",
      "Processing users (round 26/50)...: 100%|██████████| 1000/1000 [00:25<00:00, 39.85it/s]\n",
      "Processing users (round 27/50)...: 100%|██████████| 1000/1000 [00:23<00:00, 42.44it/s]\n",
      "Processing users (round 28/50)...: 100%|██████████| 1000/1000 [00:24<00:00, 40.64it/s]\n",
      "Processing users (round 29/50)...: 100%|██████████| 1000/1000 [00:23<00:00, 41.85it/s]\n",
      "Processing users (round 30/50)...: 100%|██████████| 1000/1000 [00:23<00:00, 42.13it/s]\n",
      "Processing users (round 31/50)...: 100%|██████████| 1000/1000 [00:24<00:00, 40.89it/s]\n",
      "Processing users (round 32/50)...: 100%|██████████| 1000/1000 [00:24<00:00, 40.96it/s]\n",
      "Processing users (round 33/50)...: 100%|██████████| 1000/1000 [00:23<00:00, 41.72it/s]\n",
      "Processing users (round 34/50)...: 100%|██████████| 1000/1000 [00:23<00:00, 42.59it/s]\n",
      "Processing users (round 35/50)...: 100%|██████████| 1000/1000 [00:24<00:00, 41.19it/s]\n",
      "Processing users (round 36/50)...: 100%|██████████| 1000/1000 [00:24<00:00, 41.42it/s]\n",
      "Processing users (round 37/50)...: 100%|██████████| 1000/1000 [00:23<00:00, 41.98it/s]\n",
      "Processing users (round 38/50)...: 100%|██████████| 1000/1000 [00:25<00:00, 39.84it/s]\n",
      "Processing users (round 39/50)...: 100%|██████████| 1000/1000 [00:24<00:00, 40.62it/s]\n",
      "Processing users (round 40/50)...: 100%|██████████| 1000/1000 [00:23<00:00, 41.99it/s]\n",
      "Processing users (round 41/50)...: 100%|██████████| 1000/1000 [00:23<00:00, 43.07it/s]\n",
      "Processing users (round 42/50)...: 100%|██████████| 1000/1000 [00:24<00:00, 40.49it/s]\n",
      "Processing users (round 43/50)...: 100%|██████████| 1000/1000 [00:25<00:00, 39.40it/s]\n",
      "Processing users (round 44/50)...: 100%|██████████| 1000/1000 [00:23<00:00, 42.61it/s]\n",
      "Processing users (round 45/50)...: 100%|██████████| 1000/1000 [00:24<00:00, 40.93it/s]\n",
      "Processing users (round 46/50)...: 100%|██████████| 1000/1000 [00:24<00:00, 40.96it/s]\n",
      "Processing users (round 47/50)...: 100%|██████████| 1000/1000 [00:24<00:00, 41.12it/s]\n",
      "Processing users (round 48/50)...: 100%|██████████| 1000/1000 [00:24<00:00, 40.38it/s]\n",
      "Processing users (round 49/50)...: 100%|██████████| 1000/1000 [00:24<00:00, 40.79it/s]\n",
      "Processing users (round 50/50)...: 100%|██████████| 1000/1000 [00:24<00:00, 41.49it/s]"
     ]
    },
    {
     "name": "stdout",
     "output_type": "stream",
     "text": [
      "CPU times: user 20min 20s, sys: 982 ms, total: 20min 21s\n",
      "Wall time: 20min 19s\n"
     ]
    },
    {
     "name": "stderr",
     "output_type": "stream",
     "text": [
      "\n",
      "/tmp/ipykernel_19836/3645572272.py:30: FutureWarning: The behavior of DataFrame concatenation with empty or all-NA entries is deprecated. In a future version, this will no longer exclude empty or all-NA columns when determining the result dtypes. To retain the old behavior, exclude the relevant entries before the concat operation.\n",
      "  final_df = pd.concat([D, new_df])\n"
     ]
    }
   ],
   "source": [
    "%%time\n",
    "click_matrix = bootstrap_clicks(click_matrix, unique_users, unique_items, preference_matrix, userToExpDistribution=userToExpDistribution, initial_date=0.0, rounds=50)"
   ]
  },
  {
   "cell_type": "code",
   "execution_count": 26,
   "id": "c5e5f873",
   "metadata": {},
   "outputs": [
    {
     "data": {
      "text/html": [
       "<div>\n",
       "<style scoped>\n",
       "    .dataframe tbody tr th:only-of-type {\n",
       "        vertical-align: middle;\n",
       "    }\n",
       "\n",
       "    .dataframe tbody tr th {\n",
       "        vertical-align: top;\n",
       "    }\n",
       "\n",
       "    .dataframe thead th {\n",
       "        text-align: right;\n",
       "    }\n",
       "</style>\n",
       "<table border=\"1\" class=\"dataframe\">\n",
       "  <thead>\n",
       "    <tr style=\"text-align: right;\">\n",
       "      <th></th>\n",
       "      <th>user</th>\n",
       "      <th>item</th>\n",
       "      <th>clicked_and_examined</th>\n",
       "      <th>clicked_at</th>\n",
       "      <th>timestamp</th>\n",
       "    </tr>\n",
       "  </thead>\n",
       "  <tbody>\n",
       "    <tr>\n",
       "      <th>0</th>\n",
       "      <td>10</td>\n",
       "      <td>2804</td>\n",
       "      <td>1.0</td>\n",
       "      <td>1.0</td>\n",
       "      <td>21.445333</td>\n",
       "    </tr>\n",
       "    <tr>\n",
       "      <th>1</th>\n",
       "      <td>10</td>\n",
       "      <td>2502</td>\n",
       "      <td>1.0</td>\n",
       "      <td>2.0</td>\n",
       "      <td>26.218368</td>\n",
       "    </tr>\n",
       "    <tr>\n",
       "      <th>2</th>\n",
       "      <td>10</td>\n",
       "      <td>3639</td>\n",
       "      <td>NaN</td>\n",
       "      <td>NaN</td>\n",
       "      <td>NaN</td>\n",
       "    </tr>\n",
       "    <tr>\n",
       "      <th>3</th>\n",
       "      <td>10</td>\n",
       "      <td>3204</td>\n",
       "      <td>1.0</td>\n",
       "      <td>4.0</td>\n",
       "      <td>32.883131</td>\n",
       "    </tr>\n",
       "    <tr>\n",
       "      <th>4</th>\n",
       "      <td>10</td>\n",
       "      <td>47</td>\n",
       "      <td>1.0</td>\n",
       "      <td>5.0</td>\n",
       "      <td>43.801014</td>\n",
       "    </tr>\n",
       "    <tr>\n",
       "      <th>...</th>\n",
       "      <td>...</td>\n",
       "      <td>...</td>\n",
       "      <td>...</td>\n",
       "      <td>...</td>\n",
       "      <td>...</td>\n",
       "    </tr>\n",
       "    <tr>\n",
       "      <th>999995</th>\n",
       "      <td>6036</td>\n",
       "      <td>1003</td>\n",
       "      <td>NaN</td>\n",
       "      <td>NaN</td>\n",
       "      <td>NaN</td>\n",
       "    </tr>\n",
       "    <tr>\n",
       "      <th>999996</th>\n",
       "      <td>6036</td>\n",
       "      <td>2285</td>\n",
       "      <td>NaN</td>\n",
       "      <td>NaN</td>\n",
       "      <td>NaN</td>\n",
       "    </tr>\n",
       "    <tr>\n",
       "      <th>999997</th>\n",
       "      <td>6036</td>\n",
       "      <td>1183</td>\n",
       "      <td>0.0</td>\n",
       "      <td>NaN</td>\n",
       "      <td>NaN</td>\n",
       "    </tr>\n",
       "    <tr>\n",
       "      <th>999998</th>\n",
       "      <td>6036</td>\n",
       "      <td>2735</td>\n",
       "      <td>NaN</td>\n",
       "      <td>NaN</td>\n",
       "      <td>NaN</td>\n",
       "    </tr>\n",
       "    <tr>\n",
       "      <th>999999</th>\n",
       "      <td>6036</td>\n",
       "      <td>1365</td>\n",
       "      <td>NaN</td>\n",
       "      <td>NaN</td>\n",
       "      <td>NaN</td>\n",
       "    </tr>\n",
       "  </tbody>\n",
       "</table>\n",
       "<p>1000000 rows × 5 columns</p>\n",
       "</div>"
      ],
      "text/plain": [
       "        user  item  clicked_and_examined  clicked_at  timestamp\n",
       "0         10  2804                   1.0         1.0  21.445333\n",
       "1         10  2502                   1.0         2.0  26.218368\n",
       "2         10  3639                   NaN         NaN        NaN\n",
       "3         10  3204                   1.0         4.0  32.883131\n",
       "4         10    47                   1.0         5.0  43.801014\n",
       "...      ...   ...                   ...         ...        ...\n",
       "999995  6036  1003                   NaN         NaN        NaN\n",
       "999996  6036  2285                   NaN         NaN        NaN\n",
       "999997  6036  1183                   0.0         NaN        NaN\n",
       "999998  6036  2735                   NaN         NaN        NaN\n",
       "999999  6036  1365                   NaN         NaN        NaN\n",
       "\n",
       "[1000000 rows x 5 columns]"
      ]
     },
     "execution_count": 26,
     "metadata": {},
     "output_type": "execute_result"
    }
   ],
   "source": [
    "click_matrix"
   ]
  },
  {
   "cell_type": "code",
   "execution_count": 27,
   "id": "e8b46f64-acfb-47ce-a7f8-73ee2ede33e2",
   "metadata": {},
   "outputs": [],
   "source": [
    "click_matrix.to_csv(\"../data/simulation/sinthetic_data_1k_sample.csv\", index=False)"
   ]
  },
  {
   "cell_type": "code",
   "execution_count": null,
   "id": "49e12d71-35eb-49fa-a169-abf578cb86b6",
   "metadata": {},
   "outputs": [],
   "source": [
    "click_matrix = pd.read_csv(\"../data/simulation/sinthetic_data_1k_sample.csv\")"
   ]
  },
  {
   "cell_type": "code",
   "execution_count": 29,
   "id": "043911d7-794f-423b-9e48-92b43bed5032",
   "metadata": {},
   "outputs": [
    {
     "data": {
      "text/plain": [
       "clicked_and_examined\n",
       "0.0    243625\n",
       "1.0    109205\n",
       "Name: count, dtype: int64"
      ]
     },
     "execution_count": 29,
     "metadata": {},
     "output_type": "execute_result"
    }
   ],
   "source": [
    "click_matrix[click_matrix[\"clicked_and_examined\"].notna()][\"clicked_and_examined\"].value_counts(dropna=False)"
   ]
  }
 ],
 "metadata": {
  "kernelspec": {
   "display_name": ".dynamicTaste (3.12.3)",
   "language": "python",
   "name": "python3"
  },
  "language_info": {
   "codemirror_mode": {
    "name": "ipython",
    "version": 3
   },
   "file_extension": ".py",
   "mimetype": "text/x-python",
   "name": "python",
   "nbconvert_exporter": "python",
   "pygments_lexer": "ipython3",
   "version": "3.12.3"
  }
 },
 "nbformat": 4,
 "nbformat_minor": 5
}
