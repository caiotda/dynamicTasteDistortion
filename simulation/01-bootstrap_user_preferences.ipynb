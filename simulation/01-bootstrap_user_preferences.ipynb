{
 "cells": [
  {
   "cell_type": "markdown",
   "id": "d672f14f-3dcf-456e-9c96-3cea6e794dfd",
   "metadata": {},
   "source": [
    "# Bootstrapping user preferences\n",
    "\n",
    "\n",
    "\n",
    "Similarly to (Zhu et al., 2021), we'll evaluate a dynamic recommendation system using:\n",
    "\n",
    "1. An oracle preference model (Generated in notebook 00-preference_model)\n",
    "2. A position bias examination model\n",
    "3. Bootstrapped user preferences\n",
    "\n",
    "Step 3 is important so that we're simulating exposing users to fresh items, using their previous preferences (provided by step 1) and their examination bias (step 2) to determine a sinthethical rating matrix dataset that we'll use to compare different calibration approaches as the user gets exposed to more and more items."
   ]
  },
  {
   "cell_type": "code",
   "execution_count": 57,
   "id": "015001d6-cd9a-4f62-b3f3-4ad7bfc58698",
   "metadata": {},
   "outputs": [],
   "source": [
    "import pandas as pd\n",
    "from tqdm import tqdm"
   ]
  },
  {
   "cell_type": "code",
   "execution_count": 58,
   "id": "d481e968-2224-4b8c-8730-1749494e0770",
   "metadata": {},
   "outputs": [],
   "source": [
    "import numpy as np\n",
    "import math\n",
    "import random"
   ]
  },
  {
   "cell_type": "code",
   "execution_count": 59,
   "id": "69f651c8-821f-4e47-acc3-32a43a6bb30c",
   "metadata": {},
   "outputs": [],
   "source": [
    "import sys\n",
    "import os\n",
    "from pathlib import Path\n",
    "\n",
    "sys.path.append('..')"
   ]
  },
  {
   "cell_type": "code",
   "execution_count": 60,
   "id": "4eab1b30-6bc8-434f-ad73-03d0f74dcb8a",
   "metadata": {},
   "outputs": [],
   "source": [
    "from constants import ML_1M_FILLED_PATH"
   ]
  },
  {
   "cell_type": "code",
   "execution_count": 61,
   "id": "8971bd54-aa39-4317-b79d-315a4c6deaad",
   "metadata": {},
   "outputs": [],
   "source": [
    "def get_user_preference_for_item(user, item, matrix):\n",
    "    user_ratings = matrix[matrix[\"user\"] == user]\n",
    "    return user_ratings[user_ratings[\"item\"] == item].rating.item()"
   ]
  },
  {
   "cell_type": "code",
   "execution_count": 62,
   "id": "12a9ad58-bf65-44a6-8317-876af6a0237a",
   "metadata": {},
   "outputs": [],
   "source": [
    "def click_model(k):\n",
    "    lambda_k = 1/math.log(k+1,2)\n",
    "    examination_probability = random.random()\n",
    "    if examination_probability <= lambda_k:\n",
    "        return True\n",
    "    return False"
   ]
  },
  {
   "cell_type": "code",
   "execution_count": 63,
   "id": "d1d5bfd1-7286-4f0f-89c6-df92675304c6",
   "metadata": {},
   "outputs": [],
   "source": [
    "def get_inverse_propensity_click_score(position):\n",
    "    # Given a click position, this funtion returns the invense propensity, \n",
    "    # usefull to debias the data later.\n",
    "    return - 1/math.log(position+1,2)"
   ]
  },
  {
   "cell_type": "code",
   "execution_count": 64,
   "id": "19d20c11-62b3-4e78-a022-40ec435f8709",
   "metadata": {},
   "outputs": [],
   "source": [
    "def get_user_feedback_for_item(user, item ,k, matrix):\n",
    "    preference = get_user_preference_for_item(user, item, matrix)\n",
    "    observed = click_model(k)\n",
    "    relevant = bool(preference)\n",
    "    should_click = observed and relevant\n",
    "    if (should_click):\n",
    "        feedback = 1\n",
    "        clicked_at = k\n",
    "    else:\n",
    "        if (observed):\n",
    "            # Case where an item was observed, but isn´t relevant -> negative example for BPR\n",
    "            feedback = 0\n",
    "        else:\n",
    "            # Case where an item was neither observed or relevant -> we will ignore this training instance in this loop\n",
    "            feedback = None\n",
    "        clicked_at = None\n",
    "        \n",
    "    # If user clicked the item, record the position it was in\n",
    "    # feedback = 1 if user examined and clicked, 0 if user examined and not clicked,\n",
    "    # None if otherwise\n",
    "    return user, item, feedback, clicked_at"
   ]
  },
  {
   "cell_type": "code",
   "execution_count": 65,
   "id": "712a1a36-5c44-4718-8b31-fcd3726fccb5",
   "metadata": {},
   "outputs": [],
   "source": [
    "def map_recommendation_to_feedback(user, rec_list, matrix):\n",
    "    return [get_user_feedback_for_item(user, item, idx+1, matrix) for idx, item in enumerate(rec_list)]"
   ]
  },
  {
   "cell_type": "code",
   "execution_count": 66,
   "id": "6b2f9eea-aa12-4abf-b051-13b8eacfaba9",
   "metadata": {},
   "outputs": [],
   "source": [
    "def random_rec(items, u, k, D):\n",
    "    user_history = set(D[D[\"user\"] == u][\"item\"])\n",
    "    candidate_items = list(set(items) - user_history)\n",
    "    return random.sample(candidate_items, k)"
   ]
  },
  {
   "cell_type": "code",
   "execution_count": 67,
   "id": "b8105f4b-cfb9-4b48-9639-df74a991dcff",
   "metadata": {},
   "outputs": [],
   "source": [
    "preference_matrix = pd.read_csv(f\"../{ML_1M_FILLED_PATH}\").drop(columns=[\"Unnamed: 0\"])"
   ]
  },
  {
   "cell_type": "code",
   "execution_count": 68,
   "id": "573be9db-9f1e-4f54-9c1d-6d5a83f3463b",
   "metadata": {},
   "outputs": [],
   "source": [
    "unique_users = list(preference_matrix[\"user\"].unique())\n",
    "\n",
    "unique_items = list(preference_matrix[\"item\"].unique())"
   ]
  },
  {
   "cell_type": "code",
   "execution_count": 69,
   "id": "ae28cbd3-1978-42a0-afdd-f9bd11480446",
   "metadata": {},
   "outputs": [],
   "source": [
    "click_matrix = pd.DataFrame(columns=[\"user\", \"item\", \"clicked_and_examined\", \"clicked_at\"])"
   ]
  },
  {
   "cell_type": "code",
   "execution_count": 70,
   "id": "1311a8d7-905d-4d2d-81e6-477708e3b097",
   "metadata": {},
   "outputs": [],
   "source": [
    "def bootstrap_clicks(D, unique_users, unique_items, preference_matrix, k=20, rounds=10):\n",
    "    \"\"\"\n",
    "    Given unique users and unique items, recommend up to k items to every user\n",
    "    using a preference matrix as a relevancy model and using a click model\n",
    "    to simulate probability of user examinating an item.\n",
    "\n",
    "    Feedback signal will be fed to the D matrix.\n",
    "\n",
    "    We run the boostrap process for a total of an arbitrary number of rounds,\n",
    "    in order to ensure enough feedback data to train a model.\n",
    "    \"\"\"\n",
    "    new_df = D.copy()#pd.DataFrame(columns=[\"user\", \"item\", \"clicked_and_examined\", \"clicked_at\"])\n",
    "    for round in range(rounds):\n",
    "        rows_to_append = []\n",
    "        for user in tqdm(unique_users, desc=f\"Processing users (round {round+1}/{rounds})...\"):\n",
    "            recs = random_rec(unique_items, user, k, new_df)\n",
    "            row = map_recommendation_to_feedback(user, recs, preference_matrix)\n",
    "            rows_to_append.extend(row)\n",
    "        round_df = pd.DataFrame(rows_to_append, columns=new_df.columns)\n",
    "        new_df = pd.concat([new_df, round_df], ignore_index=True)\n",
    "    return pd.concat([D, new_df])"
   ]
  },
  {
   "cell_type": "code",
   "execution_count": null,
   "id": "f7f8ad7d-fb88-4bea-96c8-4b9618c10f52",
   "metadata": {},
   "outputs": [
    {
     "name": "stderr",
     "output_type": "stream",
     "text": [
      "Processing users (round 1/10)...: 100%|██████████| 6040/6040 [18:02<00:00,  5.58it/s]\n",
      "/tmp/ipykernel_7989/1541821497.py:20: FutureWarning: The behavior of DataFrame concatenation with empty or all-NA entries is deprecated. In a future version, this will no longer exclude empty or all-NA columns when determining the result dtypes. To retain the old behavior, exclude the relevant entries before the concat operation.\n",
      "  new_df = pd.concat([new_df, round_df], ignore_index=True)\n",
      "Processing users (round 2/10)...: 100%|██████████| 6040/6040 [17:50<00:00,  5.64it/s]\n",
      "Processing users (round 3/10)...: 100%|██████████| 6040/6040 [19:05<00:00,  5.27it/s]\n",
      "Processing users (round 4/10)...: 100%|██████████| 6040/6040 [19:21<00:00,  5.20it/s]\n",
      "Processing users (round 5/10)...: 100%|██████████| 6040/6040 [20:13<00:00,  4.98it/s]\n",
      "Processing users (round 6/10)...:  43%|████▎     | 2575/6040 [08:45<12:02,  4.80it/s]"
     ]
    }
   ],
   "source": [
    "%%time\n",
    "click_matrix = bootstrap_clicks(click_matrix, unique_users, unique_items, preference_matrix)"
   ]
  },
  {
   "cell_type": "code",
   "execution_count": null,
   "id": "5e52d463",
   "metadata": {},
   "outputs": [
    {
     "data": {
      "text/html": [
       "<div>\n",
       "<style scoped>\n",
       "    .dataframe tbody tr th:only-of-type {\n",
       "        vertical-align: middle;\n",
       "    }\n",
       "\n",
       "    .dataframe tbody tr th {\n",
       "        vertical-align: top;\n",
       "    }\n",
       "\n",
       "    .dataframe thead th {\n",
       "        text-align: right;\n",
       "    }\n",
       "</style>\n",
       "<table border=\"1\" class=\"dataframe\">\n",
       "  <thead>\n",
       "    <tr style=\"text-align: right;\">\n",
       "      <th></th>\n",
       "      <th>user</th>\n",
       "      <th>item</th>\n",
       "      <th>relevancy</th>\n",
       "      <th>clicked_at</th>\n",
       "    </tr>\n",
       "  </thead>\n",
       "  <tbody>\n",
       "    <tr>\n",
       "      <th>0</th>\n",
       "      <td>1</td>\n",
       "      <td>3183</td>\n",
       "      <td>1.0</td>\n",
       "      <td>1.0</td>\n",
       "    </tr>\n",
       "    <tr>\n",
       "      <th>1</th>\n",
       "      <td>1</td>\n",
       "      <td>1375</td>\n",
       "      <td>NaN</td>\n",
       "      <td>NaN</td>\n",
       "    </tr>\n",
       "    <tr>\n",
       "      <th>2</th>\n",
       "      <td>1</td>\n",
       "      <td>2162</td>\n",
       "      <td>NaN</td>\n",
       "      <td>NaN</td>\n",
       "    </tr>\n",
       "    <tr>\n",
       "      <th>3</th>\n",
       "      <td>1</td>\n",
       "      <td>353</td>\n",
       "      <td>NaN</td>\n",
       "      <td>NaN</td>\n",
       "    </tr>\n",
       "    <tr>\n",
       "      <th>4</th>\n",
       "      <td>1</td>\n",
       "      <td>2519</td>\n",
       "      <td>NaN</td>\n",
       "      <td>NaN</td>\n",
       "    </tr>\n",
       "    <tr>\n",
       "      <th>...</th>\n",
       "      <td>...</td>\n",
       "      <td>...</td>\n",
       "      <td>...</td>\n",
       "      <td>...</td>\n",
       "    </tr>\n",
       "    <tr>\n",
       "      <th>120795</th>\n",
       "      <td>6040</td>\n",
       "      <td>3248</td>\n",
       "      <td>NaN</td>\n",
       "      <td>NaN</td>\n",
       "    </tr>\n",
       "    <tr>\n",
       "      <th>120796</th>\n",
       "      <td>6040</td>\n",
       "      <td>3937</td>\n",
       "      <td>0.0</td>\n",
       "      <td>NaN</td>\n",
       "    </tr>\n",
       "    <tr>\n",
       "      <th>120797</th>\n",
       "      <td>6040</td>\n",
       "      <td>3423</td>\n",
       "      <td>NaN</td>\n",
       "      <td>NaN</td>\n",
       "    </tr>\n",
       "    <tr>\n",
       "      <th>120798</th>\n",
       "      <td>6040</td>\n",
       "      <td>3246</td>\n",
       "      <td>NaN</td>\n",
       "      <td>NaN</td>\n",
       "    </tr>\n",
       "    <tr>\n",
       "      <th>120799</th>\n",
       "      <td>6040</td>\n",
       "      <td>1058</td>\n",
       "      <td>0.0</td>\n",
       "      <td>NaN</td>\n",
       "    </tr>\n",
       "  </tbody>\n",
       "</table>\n",
       "<p>120800 rows × 4 columns</p>\n",
       "</div>"
      ],
      "text/plain": [
       "        user  item  relevancy  clicked_at\n",
       "0          1  3183        1.0         1.0\n",
       "1          1  1375        NaN         NaN\n",
       "2          1  2162        NaN         NaN\n",
       "3          1   353        NaN         NaN\n",
       "4          1  2519        NaN         NaN\n",
       "...      ...   ...        ...         ...\n",
       "120795  6040  3248        NaN         NaN\n",
       "120796  6040  3937        0.0         NaN\n",
       "120797  6040  3423        NaN         NaN\n",
       "120798  6040  3246        NaN         NaN\n",
       "120799  6040  1058        0.0         NaN\n",
       "\n",
       "[120800 rows x 4 columns]"
      ]
     },
     "execution_count": 45,
     "metadata": {},
     "output_type": "execute_result"
    }
   ],
   "source": [
    "click_matrix"
   ]
  },
  {
   "cell_type": "code",
   "execution_count": null,
   "id": "ea7eb969",
   "metadata": {},
   "outputs": [
    {
     "data": {
      "text/plain": [
       "relevancy  clicked_at\n",
       "0.0        NaN           28588\n",
       "1.0        1.0            1988\n",
       "           2.0            1251\n",
       "           3.0             960\n",
       "           4.0             842\n",
       "           5.0             745\n",
       "           6.0             735\n",
       "           7.0             652\n",
       "           8.0             617\n",
       "           9.0             560\n",
       "           10.0            540\n",
       "           11.0            573\n",
       "           12.0            518\n",
       "           13.0            508\n",
       "           14.0            519\n",
       "           15.0            481\n",
       "           16.0            433\n",
       "           17.0            492\n",
       "           18.0            481\n",
       "           19.0            423\n",
       "           20.0            455\n",
       "NaN        NaN           78439\n",
       "dtype: int64"
      ]
     },
     "execution_count": 56,
     "metadata": {},
     "output_type": "execute_result"
    }
   ],
   "source": [
    "click_matrix.groupby([\"relevancy\", \"clicked_at\"], dropna=False).size()"
   ]
  },
  {
   "cell_type": "code",
   "execution_count": null,
   "id": "e8b46f64-acfb-47ce-a7f8-73ee2ede33e2",
   "metadata": {},
   "outputs": [],
   "source": [
    "click_matrix.to_csv(\"../data/simulation/sinthetic_data.csv\", index=False)"
   ]
  },
  {
   "cell_type": "code",
   "execution_count": null,
   "id": "49e12d71-35eb-49fa-a169-abf578cb86b6",
   "metadata": {},
   "outputs": [],
   "source": [
    "click_matrix = pd.read_csv(\"../data/simulation/sinthetic_data.csv\")"
   ]
  },
  {
   "cell_type": "code",
   "execution_count": null,
   "id": "043911d7-794f-423b-9e48-92b43bed5032",
   "metadata": {},
   "outputs": [
    {
     "data": {
      "text/plain": [
       "relevancy\n",
       "0.0    28588\n",
       "1.0    13773\n",
       "Name: count, dtype: int64"
      ]
     },
     "execution_count": 55,
     "metadata": {},
     "output_type": "execute_result"
    }
   ],
   "source": [
    "click_matrix[click_matrix[\"relevancy\"].notna()][\"relevancy\"].value_counts(dropna=False)"
   ]
  }
 ],
 "metadata": {
  "kernelspec": {
   "display_name": ".dynamicTaste (3.12.3)",
   "language": "python",
   "name": "python3"
  },
  "language_info": {
   "codemirror_mode": {
    "name": "ipython",
    "version": 3
   },
   "file_extension": ".py",
   "mimetype": "text/x-python",
   "name": "python",
   "nbconvert_exporter": "python",
   "pygments_lexer": "ipython3",
   "version": "3.12.3"
  }
 },
 "nbformat": 4,
 "nbformat_minor": 5
}
