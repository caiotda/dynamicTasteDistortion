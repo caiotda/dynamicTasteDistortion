{
 "cells": [
  {
   "cell_type": "markdown",
   "id": "d672f14f-3dcf-456e-9c96-3cea6e794dfd",
   "metadata": {},
   "source": [
    "# Bootstrapping user preferences\n",
    "\n",
    "\n",
    "\n",
    "Similarly to (Zhu et al., 2021), we'll evaluate a dynamic recommendation system using:\n",
    "\n",
    "1. An oracle preference model (Generated in notebook 00-preference_model)\n",
    "2. A position bias examination model\n",
    "3. Bootstrapped user preferences\n",
    "\n",
    "Step 3 is important so that we're simulating exposing users to fresh items, using their previous preferences (provided by step 1) and their examination bias (step 2) to determine a sinthethical rating matrix dataset that we'll use to compare different calibration approaches as the user gets exposed to more and more items.\n",
    "\n",
    "We'll also simulate the timestamp of user interaction, with the following methodology:\n",
    "\n",
    "1. We'll analyze the average delta in timestamps between consecutive ratings per user in the same dataset that the preference model was trained on (e.g: movielens) (present in data/movielens-1m/avg_str_time_dff_per_user.csv)\n",
    "2. Assuming that the time_delta is normally distributed (with the mean and standart deviation being defined from the dataset), we'll randomly generate a delta_t for each user. the time_0 will be the timestamp when we start generating the user preferences."
   ]
  },
  {
   "cell_type": "markdown",
   "id": "ace3c738",
   "metadata": {},
   "source": []
  },
  {
   "cell_type": "code",
   "execution_count": 1,
   "id": "015001d6-cd9a-4f62-b3f3-4ad7bfc58698",
   "metadata": {},
   "outputs": [],
   "source": [
    "import pandas as pd\n",
    "from scipy.stats import expon\n",
    "from tqdm import tqdm"
   ]
  },
  {
   "cell_type": "code",
   "execution_count": 2,
   "id": "d481e968-2224-4b8c-8730-1749494e0770",
   "metadata": {},
   "outputs": [],
   "source": [
    "import numpy as np\n",
    "import math\n",
    "import random"
   ]
  },
  {
   "cell_type": "code",
   "execution_count": 3,
   "id": "69f651c8-821f-4e47-acc3-32a43a6bb30c",
   "metadata": {},
   "outputs": [],
   "source": [
    "import sys\n",
    "import os\n",
    "from pathlib import Path\n",
    "import pickle\n",
    "\n",
    "sys.path.append('..')"
   ]
  },
  {
   "cell_type": "code",
   "execution_count": 4,
   "id": "4eab1b30-6bc8-434f-ad73-03d0f74dcb8a",
   "metadata": {},
   "outputs": [],
   "source": [
    "from constants import ML_1M_FILLED_PATH"
   ]
  },
  {
   "cell_type": "markdown",
   "id": "087594c4",
   "metadata": {},
   "source": [
    "## Reading and setting up data"
   ]
  },
  {
   "cell_type": "code",
   "execution_count": 5,
   "id": "c2efc509",
   "metadata": {},
   "outputs": [],
   "source": [
    "preference_matrix = pd.read_csv(f\"../{ML_1M_FILLED_PATH}\").drop(columns=[\"Unnamed: 0\"])\n",
    "preference_matrix = preference_matrix.rename(columns={\"Rating\": \"rating\"})\n",
    "\n",
    "\n",
    "unique_users = list(preference_matrix[\"user\"].unique())\n",
    "\n",
    "unique_items = list(preference_matrix[\"item\"].unique())\n",
    "\n",
    "\n",
    "click_matrix = pd.DataFrame(columns=[\"user\", \"item\", \"clicked_and_examined\", \"clicked_at\", \"timestamp\"])\n",
    "\n",
    "user_to_time_delta = pd.read_csv(\"../data/movielens-1m/median_time_diff_per_user.csv\").set_index(\"userId\")"
   ]
  },
  {
   "cell_type": "code",
   "execution_count": 6,
   "id": "0fadfd5c",
   "metadata": {},
   "outputs": [],
   "source": [
    "\n",
    "\n",
    "userToExpDistribution = {\n",
    "    user: expon(scale=row[\"median_timestamp_diff\"])\n",
    "    for user, row in user_to_time_delta.iterrows()\n",
    "}\n",
    "\n",
    "\n",
    "\n",
    "\n",
    "with open(\"userToExpDistribution.pkl\", \"wb\") as f:\n",
    "    pickle.dump(userToExpDistribution, f)"
   ]
  },
  {
   "cell_type": "markdown",
   "id": "597f3efa",
   "metadata": {},
   "source": [
    "## Functions"
   ]
  },
  {
   "cell_type": "code",
   "execution_count": 7,
   "id": "8971bd54-aa39-4317-b79d-315a4c6deaad",
   "metadata": {},
   "outputs": [],
   "source": [
    "def get_user_preference_for_item(user, item, matrix):\n",
    "    user_ratings = matrix[matrix[\"user\"] == user]\n",
    "    return user_ratings[user_ratings[\"item\"] == item].rating.item()"
   ]
  },
  {
   "cell_type": "code",
   "execution_count": 8,
   "id": "12a9ad58-bf65-44a6-8317-876af6a0237a",
   "metadata": {},
   "outputs": [],
   "source": [
    "def click_model(k):\n",
    "    lambda_k = 1/math.log(k+1,2)\n",
    "    examination_probability = random.random()\n",
    "    if examination_probability <= lambda_k:\n",
    "        return True\n",
    "    return False"
   ]
  },
  {
   "cell_type": "code",
   "execution_count": 9,
   "id": "d1d5bfd1-7286-4f0f-89c6-df92675304c6",
   "metadata": {},
   "outputs": [],
   "source": [
    "def get_inverse_propensity_click_score(position):\n",
    "    # Given a click position, this funtion returns the invense propensity, \n",
    "    # usefull to debias the data later.\n",
    "    return - 1/math.log(position+1,2)"
   ]
  },
  {
   "cell_type": "code",
   "execution_count": 10,
   "id": "5836a74d",
   "metadata": {},
   "outputs": [
    {
     "data": {
      "text/plain": [
       "6.452334368057109"
      ]
     },
     "execution_count": 10,
     "metadata": {},
     "output_type": "execute_result"
    }
   ],
   "source": [
    "userToExpDistribution[1].rvs(1)[0]"
   ]
  },
  {
   "cell_type": "code",
   "execution_count": 11,
   "id": "19d20c11-62b3-4e78-a022-40ec435f8709",
   "metadata": {},
   "outputs": [],
   "source": [
    "def get_user_feedback_for_item(user, item ,k, matrix, user_to_time_distribution, initial_time):\n",
    "    # Build a mapping from user to their timestamp distribution\n",
    "    preference = get_user_preference_for_item(user, item, matrix)\n",
    "    observed = click_model(k)\n",
    "    relevant = bool(preference)\n",
    "    should_click = observed and relevant\n",
    "    if (should_click):\n",
    "        feedback = 1\n",
    "        clicked_at = k\n",
    "        # Sample one delta_t random variable following the users\n",
    "        # Exponential time distribution\n",
    "        timestamp = initial_time + user_to_time_distribution[user].rvs(1)[0]\n",
    "    else:\n",
    "        if (observed):\n",
    "            # Case where an item was observed, but isn´t relevant -> negative example for BPR\n",
    "            feedback = 0\n",
    "        else:\n",
    "            # Case where an item was neither observed or relevant -> we will ignore this training instance in this loop\n",
    "            feedback = None\n",
    "        clicked_at = None\n",
    "        timestamp = None\n",
    "        \n",
    "    # If user clicked the item, record the position it was in\n",
    "    # feedback = 1 if user examined and clicked, 0 if user examined and not clicked,\n",
    "    # None if otherwise\n",
    "    return user, item, feedback, clicked_at, timestamp"
   ]
  },
  {
   "cell_type": "code",
   "execution_count": 12,
   "id": "712a1a36-5c44-4718-8b31-fcd3726fccb5",
   "metadata": {},
   "outputs": [],
   "source": [
    "def map_recommendation_to_feedback(user, rec_list, matrix, user_to_up_to_date_timestamp, userToExpDistribution):\n",
    "    initial_time = user_to_up_to_date_timestamp.loc[user_to_up_to_date_timestamp[\"user\"] == user, \"delta_from_start\"].squeeze()\n",
    "    results = []\n",
    "    for idx, item in enumerate(rec_list):\n",
    "        user, item, feedback, clicked_at, timestamp  = get_user_feedback_for_item(user, item, idx+1, matrix, userToExpDistribution, initial_time)\n",
    "        if (timestamp is not None):\n",
    "            initial_time = timestamp\n",
    "        feedback = (user, item, feedback, clicked_at, timestamp)\n",
    "        results.append(feedback)\n",
    "    return results, initial_time"
   ]
  },
  {
   "cell_type": "code",
   "execution_count": 13,
   "id": "6b2f9eea-aa12-4abf-b051-13b8eacfaba9",
   "metadata": {},
   "outputs": [],
   "source": [
    "def random_rec(items, u, k, D):\n",
    "    user_history = set(D[D[\"user\"] == u][\"item\"])\n",
    "    candidate_items = list(set(items) - user_history)\n",
    "    return random.sample(candidate_items, k)"
   ]
  },
  {
   "cell_type": "code",
   "execution_count": null,
   "id": "ce46f08d",
   "metadata": {},
   "outputs": [],
   "source": []
  },
  {
   "cell_type": "code",
   "execution_count": 14,
   "id": "ec2ef531",
   "metadata": {},
   "outputs": [],
   "source": [
    "initial_date = None"
   ]
  },
  {
   "cell_type": "code",
   "execution_count": 15,
   "id": "12d5d8d0",
   "metadata": {},
   "outputs": [],
   "source": [
    "if initial_date is None:\n",
    "    initial_date = pd.Timestamp.now().timestamp()\n",
    "user_to_up_to_date_timestamp = pd.DataFrame({\n",
    "    \"user\": unique_users,\n",
    "    \"delta_from_start\": 0.0\n",
    "})\n",
    "user_to_up_to_date_timestamp[\"timestamp_dist\"] = user_to_up_to_date_timestamp[\"user\"].map(userToExpDistribution)"
   ]
  },
  {
   "cell_type": "code",
   "execution_count": null,
   "id": "cd44fd93",
   "metadata": {},
   "outputs": [],
   "source": []
  },
  {
   "cell_type": "code",
   "execution_count": 16,
   "id": "2c9c2b50",
   "metadata": {},
   "outputs": [
    {
     "data": {
      "text/plain": [
       "1757439951.581035"
      ]
     },
     "execution_count": 16,
     "metadata": {},
     "output_type": "execute_result"
    }
   ],
   "source": [
    "pd.Timestamp.now().timestamp()"
   ]
  },
  {
   "cell_type": "code",
   "execution_count": 17,
   "id": "db9739df",
   "metadata": {},
   "outputs": [
    {
     "data": {
      "text/html": [
       "<div>\n",
       "<style scoped>\n",
       "    .dataframe tbody tr th:only-of-type {\n",
       "        vertical-align: middle;\n",
       "    }\n",
       "\n",
       "    .dataframe tbody tr th {\n",
       "        vertical-align: top;\n",
       "    }\n",
       "\n",
       "    .dataframe thead th {\n",
       "        text-align: right;\n",
       "    }\n",
       "</style>\n",
       "<table border=\"1\" class=\"dataframe\">\n",
       "  <thead>\n",
       "    <tr style=\"text-align: right;\">\n",
       "      <th></th>\n",
       "      <th>user</th>\n",
       "      <th>delta_from_start</th>\n",
       "      <th>timestamp_dist</th>\n",
       "    </tr>\n",
       "  </thead>\n",
       "  <tbody>\n",
       "    <tr>\n",
       "      <th>0</th>\n",
       "      <td>1</td>\n",
       "      <td>0.0</td>\n",
       "      <td>&lt;scipy.stats._distn_infrastructure.rv_continuo...</td>\n",
       "    </tr>\n",
       "    <tr>\n",
       "      <th>1</th>\n",
       "      <td>2</td>\n",
       "      <td>0.0</td>\n",
       "      <td>&lt;scipy.stats._distn_infrastructure.rv_continuo...</td>\n",
       "    </tr>\n",
       "    <tr>\n",
       "      <th>2</th>\n",
       "      <td>3</td>\n",
       "      <td>0.0</td>\n",
       "      <td>&lt;scipy.stats._distn_infrastructure.rv_continuo...</td>\n",
       "    </tr>\n",
       "    <tr>\n",
       "      <th>3</th>\n",
       "      <td>5</td>\n",
       "      <td>0.0</td>\n",
       "      <td>&lt;scipy.stats._distn_infrastructure.rv_continuo...</td>\n",
       "    </tr>\n",
       "    <tr>\n",
       "      <th>4</th>\n",
       "      <td>6</td>\n",
       "      <td>0.0</td>\n",
       "      <td>&lt;scipy.stats._distn_infrastructure.rv_continuo...</td>\n",
       "    </tr>\n",
       "    <tr>\n",
       "      <th>...</th>\n",
       "      <td>...</td>\n",
       "      <td>...</td>\n",
       "      <td>...</td>\n",
       "    </tr>\n",
       "    <tr>\n",
       "      <th>5284</th>\n",
       "      <td>6035</td>\n",
       "      <td>0.0</td>\n",
       "      <td>&lt;scipy.stats._distn_infrastructure.rv_continuo...</td>\n",
       "    </tr>\n",
       "    <tr>\n",
       "      <th>5285</th>\n",
       "      <td>6036</td>\n",
       "      <td>0.0</td>\n",
       "      <td>&lt;scipy.stats._distn_infrastructure.rv_continuo...</td>\n",
       "    </tr>\n",
       "    <tr>\n",
       "      <th>5286</th>\n",
       "      <td>6037</td>\n",
       "      <td>0.0</td>\n",
       "      <td>&lt;scipy.stats._distn_infrastructure.rv_continuo...</td>\n",
       "    </tr>\n",
       "    <tr>\n",
       "      <th>5287</th>\n",
       "      <td>6039</td>\n",
       "      <td>0.0</td>\n",
       "      <td>&lt;scipy.stats._distn_infrastructure.rv_continuo...</td>\n",
       "    </tr>\n",
       "    <tr>\n",
       "      <th>5288</th>\n",
       "      <td>6040</td>\n",
       "      <td>0.0</td>\n",
       "      <td>&lt;scipy.stats._distn_infrastructure.rv_continuo...</td>\n",
       "    </tr>\n",
       "  </tbody>\n",
       "</table>\n",
       "<p>5289 rows × 3 columns</p>\n",
       "</div>"
      ],
      "text/plain": [
       "      user  delta_from_start  \\\n",
       "0        1               0.0   \n",
       "1        2               0.0   \n",
       "2        3               0.0   \n",
       "3        5               0.0   \n",
       "4        6               0.0   \n",
       "...    ...               ...   \n",
       "5284  6035               0.0   \n",
       "5285  6036               0.0   \n",
       "5286  6037               0.0   \n",
       "5287  6039               0.0   \n",
       "5288  6040               0.0   \n",
       "\n",
       "                                         timestamp_dist  \n",
       "0     <scipy.stats._distn_infrastructure.rv_continuo...  \n",
       "1     <scipy.stats._distn_infrastructure.rv_continuo...  \n",
       "2     <scipy.stats._distn_infrastructure.rv_continuo...  \n",
       "3     <scipy.stats._distn_infrastructure.rv_continuo...  \n",
       "4     <scipy.stats._distn_infrastructure.rv_continuo...  \n",
       "...                                                 ...  \n",
       "5284  <scipy.stats._distn_infrastructure.rv_continuo...  \n",
       "5285  <scipy.stats._distn_infrastructure.rv_continuo...  \n",
       "5286  <scipy.stats._distn_infrastructure.rv_continuo...  \n",
       "5287  <scipy.stats._distn_infrastructure.rv_continuo...  \n",
       "5288  <scipy.stats._distn_infrastructure.rv_continuo...  \n",
       "\n",
       "[5289 rows x 3 columns]"
      ]
     },
     "execution_count": 17,
     "metadata": {},
     "output_type": "execute_result"
    }
   ],
   "source": [
    "user_to_up_to_date_timestamp"
   ]
  },
  {
   "cell_type": "code",
   "execution_count": null,
   "id": "0c16e6c9",
   "metadata": {},
   "outputs": [],
   "source": []
  },
  {
   "cell_type": "code",
   "execution_count": 18,
   "id": "c21a3c06",
   "metadata": {},
   "outputs": [],
   "source": [
    "def simulate_user_feedback(user, candidate_items, click_df, preference_matrix, k, user_to_up_to_date_timestamp, userToExpDistribution):\n",
    "    rec = random_rec(candidate_items, user, k, click_df)\n",
    "    row, last_time = map_recommendation_to_feedback(user, rec, preference_matrix, user_to_up_to_date_timestamp, userToExpDistribution)\n",
    "    user_to_up_to_date_timestamp.loc[user_to_up_to_date_timestamp[\"user\"] == user, \"delta_from_start\"] = last_time\n",
    "    return row, user_to_up_to_date_timestamp"
   ]
  },
  {
   "cell_type": "code",
   "execution_count": 19,
   "id": "1311a8d7-905d-4d2d-81e6-477708e3b097",
   "metadata": {},
   "outputs": [],
   "source": [
    "def bootstrap_clicks(D, unique_users, unique_items, preference_matrix, userToExpDistribution, k=20, rounds=10, initial_date=None):\n",
    "    \"\"\"\n",
    "    Given unique users and unique items, recommend up to k items to every user\n",
    "    using a preference matrix as a relevancy model and using a click model\n",
    "    to simulate probability of user examinating an item.\n",
    "\n",
    "    Feedback signal will be fed to the D matrix.\n",
    "\n",
    "    We run the boostrap process for a total of an arbitrary number of rounds,\n",
    "    in order to ensure enough feedback data to train a model.\n",
    "    \"\"\"\n",
    "\n",
    "\n",
    "    if initial_date is None:\n",
    "        initial_date = pd.Timestamp.now().timestamp()\n",
    "    user_to_up_to_date_timestamp = pd.DataFrame({\n",
    "        \"user\": unique_users,\n",
    "        \"delta_from_start\": 0.0\n",
    "    })\n",
    "    user_to_up_to_date_timestamp[\"timestamp_dist\"] = user_to_up_to_date_timestamp[\"user\"].map(userToExpDistribution)\n",
    "    new_df = D.copy()#pd.DataFrame(columns=[\"user\", \"item\", \"clicked_and_examined\", \"clicked_at\"])\n",
    "    for round in range(rounds):\n",
    "        rows_to_append = []\n",
    "        for user in tqdm(unique_users, desc=f\"Processing users (round {round+1}/{rounds})...\"):\n",
    "            row, user_to_up_to_date_timestamp = simulate_user_feedback(user, unique_items, click_matrix, preference_matrix, k, user_to_up_to_date_timestamp, userToExpDistribution)\n",
    "            #row, user_to_up_to_date_timestamp = map_recommendation_to_feedback(user, recs, preference_matrix, user_to_up_to_date_timestamp)\n",
    "            rows_to_append.extend(row)\n",
    "        round_df = pd.DataFrame(rows_to_append, columns=new_df.columns)\n",
    "        new_df = pd.concat([new_df, round_df], ignore_index=True)\n",
    "    final_df = pd.concat([D, new_df])\n",
    "    final_df.loc[final_df[\"timestamp\"].notnull(), \"timestamp\"] += initial_date\n",
    "    return final_df"
   ]
  },
  {
   "cell_type": "code",
   "execution_count": null,
   "id": "60b4b762",
   "metadata": {},
   "outputs": [],
   "source": []
  },
  {
   "cell_type": "code",
   "execution_count": 20,
   "id": "f7f8ad7d-fb88-4bea-96c8-4b9618c10f52",
   "metadata": {},
   "outputs": [
    {
     "name": "stderr",
     "output_type": "stream",
     "text": [
      "Processing users (round 1/10)...:   0%|          | 0/5289 [00:00<?, ?it/s]"
     ]
    },
    {
     "name": "stderr",
     "output_type": "stream",
     "text": [
      "Processing users (round 1/10)...: 100%|██████████| 5289/5289 [13:53<00:00,  6.34it/s]\n",
      "/tmp/ipykernel_20004/3645572272.py:29: FutureWarning: The behavior of DataFrame concatenation with empty or all-NA entries is deprecated. In a future version, this will no longer exclude empty or all-NA columns when determining the result dtypes. To retain the old behavior, exclude the relevant entries before the concat operation.\n",
      "  new_df = pd.concat([new_df, round_df], ignore_index=True)\n",
      "Processing users (round 2/10)...: 100%|██████████| 5289/5289 [14:08<00:00,  6.23it/s]\n",
      "Processing users (round 3/10)...: 100%|██████████| 5289/5289 [14:04<00:00,  6.26it/s]\n",
      "Processing users (round 4/10)...: 100%|██████████| 5289/5289 [14:35<00:00,  6.04it/s]\n",
      "Processing users (round 5/10)...: 100%|██████████| 5289/5289 [14:24<00:00,  6.12it/s]\n",
      "Processing users (round 6/10)...: 100%|██████████| 5289/5289 [14:14<00:00,  6.19it/s]\n",
      "Processing users (round 7/10)...: 100%|██████████| 5289/5289 [14:19<00:00,  6.15it/s]\n",
      "Processing users (round 8/10)...: 100%|██████████| 5289/5289 [14:22<00:00,  6.13it/s]\n",
      "Processing users (round 9/10)...: 100%|██████████| 5289/5289 [14:14<00:00,  6.19it/s]\n",
      "Processing users (round 10/10)...: 100%|██████████| 5289/5289 [14:18<00:00,  6.16it/s]\n"
     ]
    },
    {
     "name": "stdout",
     "output_type": "stream",
     "text": [
      "CPU times: user 2h 22min 40s, sys: 7.71 s, total: 2h 22min 47s\n",
      "Wall time: 2h 22min 38s\n"
     ]
    },
    {
     "name": "stderr",
     "output_type": "stream",
     "text": [
      "/tmp/ipykernel_20004/3645572272.py:30: FutureWarning: The behavior of DataFrame concatenation with empty or all-NA entries is deprecated. In a future version, this will no longer exclude empty or all-NA columns when determining the result dtypes. To retain the old behavior, exclude the relevant entries before the concat operation.\n",
      "  final_df = pd.concat([D, new_df])\n"
     ]
    }
   ],
   "source": [
    "%%time\n",
    "click_matrix = bootstrap_clicks(click_matrix, unique_users, unique_items, preference_matrix, userToExpDistribution=userToExpDistribution, initial_date=0.0)"
   ]
  },
  {
   "cell_type": "code",
   "execution_count": 22,
   "id": "c5e5f873",
   "metadata": {},
   "outputs": [
    {
     "data": {
      "text/html": [
       "<div>\n",
       "<style scoped>\n",
       "    .dataframe tbody tr th:only-of-type {\n",
       "        vertical-align: middle;\n",
       "    }\n",
       "\n",
       "    .dataframe tbody tr th {\n",
       "        vertical-align: top;\n",
       "    }\n",
       "\n",
       "    .dataframe thead th {\n",
       "        text-align: right;\n",
       "    }\n",
       "</style>\n",
       "<table border=\"1\" class=\"dataframe\">\n",
       "  <thead>\n",
       "    <tr style=\"text-align: right;\">\n",
       "      <th></th>\n",
       "      <th>user</th>\n",
       "      <th>item</th>\n",
       "      <th>clicked_and_examined</th>\n",
       "      <th>clicked_at</th>\n",
       "      <th>timestamp</th>\n",
       "    </tr>\n",
       "  </thead>\n",
       "  <tbody>\n",
       "    <tr>\n",
       "      <th>0</th>\n",
       "      <td>1</td>\n",
       "      <td>100</td>\n",
       "      <td>0.0</td>\n",
       "      <td>NaN</td>\n",
       "      <td>NaN</td>\n",
       "    </tr>\n",
       "    <tr>\n",
       "      <th>1</th>\n",
       "      <td>1</td>\n",
       "      <td>2863</td>\n",
       "      <td>1.0</td>\n",
       "      <td>2.0</td>\n",
       "      <td>7.361022</td>\n",
       "    </tr>\n",
       "    <tr>\n",
       "      <th>2</th>\n",
       "      <td>1</td>\n",
       "      <td>609</td>\n",
       "      <td>0.0</td>\n",
       "      <td>NaN</td>\n",
       "      <td>NaN</td>\n",
       "    </tr>\n",
       "    <tr>\n",
       "      <th>3</th>\n",
       "      <td>1</td>\n",
       "      <td>2273</td>\n",
       "      <td>1.0</td>\n",
       "      <td>4.0</td>\n",
       "      <td>93.286971</td>\n",
       "    </tr>\n",
       "    <tr>\n",
       "      <th>4</th>\n",
       "      <td>1</td>\n",
       "      <td>2290</td>\n",
       "      <td>NaN</td>\n",
       "      <td>NaN</td>\n",
       "      <td>NaN</td>\n",
       "    </tr>\n",
       "    <tr>\n",
       "      <th>...</th>\n",
       "      <td>...</td>\n",
       "      <td>...</td>\n",
       "      <td>...</td>\n",
       "      <td>...</td>\n",
       "      <td>...</td>\n",
       "    </tr>\n",
       "    <tr>\n",
       "      <th>1057795</th>\n",
       "      <td>6040</td>\n",
       "      <td>1583</td>\n",
       "      <td>0.0</td>\n",
       "      <td>NaN</td>\n",
       "      <td>NaN</td>\n",
       "    </tr>\n",
       "    <tr>\n",
       "      <th>1057796</th>\n",
       "      <td>6040</td>\n",
       "      <td>2050</td>\n",
       "      <td>0.0</td>\n",
       "      <td>NaN</td>\n",
       "      <td>NaN</td>\n",
       "    </tr>\n",
       "    <tr>\n",
       "      <th>1057797</th>\n",
       "      <td>6040</td>\n",
       "      <td>2438</td>\n",
       "      <td>NaN</td>\n",
       "      <td>NaN</td>\n",
       "      <td>NaN</td>\n",
       "    </tr>\n",
       "    <tr>\n",
       "      <th>1057798</th>\n",
       "      <td>6040</td>\n",
       "      <td>832</td>\n",
       "      <td>NaN</td>\n",
       "      <td>NaN</td>\n",
       "      <td>NaN</td>\n",
       "    </tr>\n",
       "    <tr>\n",
       "      <th>1057799</th>\n",
       "      <td>6040</td>\n",
       "      <td>824</td>\n",
       "      <td>NaN</td>\n",
       "      <td>NaN</td>\n",
       "      <td>NaN</td>\n",
       "    </tr>\n",
       "  </tbody>\n",
       "</table>\n",
       "<p>1057800 rows × 5 columns</p>\n",
       "</div>"
      ],
      "text/plain": [
       "         user  item  clicked_and_examined  clicked_at  timestamp\n",
       "0           1   100                   0.0         NaN        NaN\n",
       "1           1  2863                   1.0         2.0   7.361022\n",
       "2           1   609                   0.0         NaN        NaN\n",
       "3           1  2273                   1.0         4.0  93.286971\n",
       "4           1  2290                   NaN         NaN        NaN\n",
       "...       ...   ...                   ...         ...        ...\n",
       "1057795  6040  1583                   0.0         NaN        NaN\n",
       "1057796  6040  2050                   0.0         NaN        NaN\n",
       "1057797  6040  2438                   NaN         NaN        NaN\n",
       "1057798  6040   832                   NaN         NaN        NaN\n",
       "1057799  6040   824                   NaN         NaN        NaN\n",
       "\n",
       "[1057800 rows x 5 columns]"
      ]
     },
     "execution_count": 22,
     "metadata": {},
     "output_type": "execute_result"
    }
   ],
   "source": [
    "click_matrix"
   ]
  },
  {
   "cell_type": "code",
   "execution_count": 23,
   "id": "e8b46f64-acfb-47ce-a7f8-73ee2ede33e2",
   "metadata": {},
   "outputs": [],
   "source": [
    "click_matrix.to_csv(\"../data/simulation/sinthetic_data.csv\", index=False)"
   ]
  },
  {
   "cell_type": "code",
   "execution_count": 24,
   "id": "49e12d71-35eb-49fa-a169-abf578cb86b6",
   "metadata": {},
   "outputs": [],
   "source": [
    "click_matrix = pd.read_csv(\"../data/simulation/sinthetic_data.csv\")"
   ]
  },
  {
   "cell_type": "code",
   "execution_count": 25,
   "id": "043911d7-794f-423b-9e48-92b43bed5032",
   "metadata": {},
   "outputs": [
    {
     "data": {
      "text/plain": [
       "clicked_and_examined\n",
       "0.0    250814\n",
       "1.0    120944\n",
       "Name: count, dtype: int64"
      ]
     },
     "execution_count": 25,
     "metadata": {},
     "output_type": "execute_result"
    }
   ],
   "source": [
    "click_matrix[click_matrix[\"clicked_and_examined\"].notna()][\"clicked_and_examined\"].value_counts(dropna=False)"
   ]
  }
 ],
 "metadata": {
  "kernelspec": {
   "display_name": ".dynamicTaste (3.12.3)",
   "language": "python",
   "name": "python3"
  },
  "language_info": {
   "codemirror_mode": {
    "name": "ipython",
    "version": 3
   },
   "file_extension": ".py",
   "mimetype": "text/x-python",
   "name": "python",
   "nbconvert_exporter": "python",
   "pygments_lexer": "ipython3",
   "version": "3.12.3"
  }
 },
 "nbformat": 4,
 "nbformat_minor": 5
}
